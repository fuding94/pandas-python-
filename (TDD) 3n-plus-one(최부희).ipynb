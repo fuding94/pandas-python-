{
 "cells": [
  {
   "cell_type": "markdown",
   "metadata": {},
   "source": [
    "### DS School 프로그래밍 입문반 과제 - 3n + 1\n",
    "\n",
    "3n + 1 문제는 다음과 같습니다.\n",
    "\n",
    "  * n이 홀수면 3을 곱한 뒤 1을 더하고\n",
    "  * n이 짝수면 2로 나눕니다.\n",
    "  * 마지막으로 n이 1이 되면 프로그램을 종료합니다.\n",
    "\n",
    "가령 예시를 들자면 다음과 같습니다.\n",
    "\n",
    "```\n",
    "cycle(1) == [1]\n",
    "cycle(2) == [2, 1]\n",
    "cycle(3) == [3, 10, 5, 16, 8, 4, 2, 1]\n",
    "cycle(4) == [4, 2, 1]\n",
    "cycle(5) == [5, 16, 8, 4, 2, 1]\n",
    "```\n",
    "\n",
    "언제나 마찬가지로 문제는 꼭 테스트 주도 개발(Test Driven Development, 이하 TDD)로 풀어야 합니다. 이 문제를 TDD로 푸는 예시에 관해서는 [다음의 동영상](https://vimeo.com/337010538/138de565b4)을 참고해주세요."
   ]
  },
  {
   "cell_type": "markdown",
   "metadata": {},
   "source": [
    "### Implementation"
   ]
  },
  {
   "cell_type": "code",
   "execution_count": 181,
   "metadata": {},
   "outputs": [],
   "source": [
    "def cycle(n):\n",
    "    result = []\n",
    "    result.append(n)\n",
    "    \n",
    "    for i in range(9999):\n",
    "        if n == 1:\n",
    "            break\n",
    "            \n",
    "        elif n%2 == 0:\n",
    "            n = int(n/2)\n",
    "            result.append(n)\n",
    "            \n",
    "        elif n%2 !=0: \n",
    "            n = int(3*n + 1)\n",
    "            result.append(n)\n",
    "\n",
    "    return result\n",
    "\n"
   ]
  },
  {
   "cell_type": "code",
   "execution_count": 182,
   "metadata": {},
   "outputs": [],
   "source": [
    "assert cycle(1) == [1]\n",
    "assert cycle(2) == [2, 1]\n",
    "assert cycle(3) == [3, 10, 5, 16, 8, 4, 2, 1]\n",
    "assert cycle(4) == [4, 2, 1]"
   ]
  },
  {
   "cell_type": "markdown",
   "metadata": {},
   "source": [
    "### Unit Test"
   ]
  },
  {
   "cell_type": "code",
   "execution_count": 186,
   "metadata": {},
   "outputs": [
    {
     "data": {
      "text/plain": [
       "[3, 10, 5, 16, 8, 4, 2, 1]"
      ]
     },
     "execution_count": 186,
     "metadata": {},
     "output_type": "execute_result"
    }
   ],
   "source": [
    "cycle(3)"
   ]
  },
  {
   "cell_type": "code",
   "execution_count": 187,
   "metadata": {},
   "outputs": [
    {
     "data": {
      "text/plain": [
       "[5, 16, 8, 4, 2, 1]"
      ]
     },
     "execution_count": 187,
     "metadata": {},
     "output_type": "execute_result"
    }
   ],
   "source": [
    "cycle(5)"
   ]
  },
  {
   "cell_type": "code",
   "execution_count": 188,
   "metadata": {},
   "outputs": [
    {
     "data": {
      "text/plain": [
       "[8, 4, 2, 1]"
      ]
     },
     "execution_count": 188,
     "metadata": {},
     "output_type": "execute_result"
    }
   ],
   "source": [
    "cycle(8)"
   ]
  },
  {
   "cell_type": "markdown",
   "metadata": {},
   "source": [
    "### 제출"
   ]
  },
  {
   "cell_type": "markdown",
   "metadata": {},
   "source": [
    "과제를 다 끝내셨으면, 슬랙의 [#programming-q03](https://dsschoolkr.slack.com/archives/GJDMK3J6P/p1558095585000800) 채널에 제출해주시면 강사나 담당 튜터님이 솔루션을 검토해드립니다.\n",
    "\n",
    "앞서 설명드린대로, 솔루션은 꼭 **과제를 푸는 모습을 동영상으로 촬영해서 제출해주셔야 합니다.** 프로그래밍은 정적인 결과물만으로는 그 사람이 잘했는지 못했는지 판단할 수 없기 때문에, 반드시 동영상으로 풀이 과정을 촬영해야 저희가 하나하나 확인 후 검토해드릴 수 있습니다. 동영상을 촬영할 때는\n",
    "\n",
    "  * 치팅 행위를 방지하기 위하여, 촬영 전에 수업을 듣고 있는 과정과 기수, 성함을 언급해주셔야 합니다. 가령 언제나 처음에는 \"안녕하세요. 디에스 스쿨 프로그래밍반 1기를 수강하고 있는 강성희라고 합니다.\" 라고 언급을 해주셔야 합니다.\n",
    "  * 문제를 푸는 과정을 반드시 수강생 본인이 구두로 설명을 해야 합니다. (이를 인지심리학 전문 용어로 프로토콜 분석([Protocol analysis](https://ko.wikipedia.org/wiki/%ED%94%84%EB%A1%9C%ED%86%A0%EC%BD%9C_%EB%B6%84%EC%84%9D)) 이라고 합니다)\n",
    "  * 언제나 테스트 주도 개발(Test Driven Development, [TDD](https://ko.wikipedia.org/wiki/%ED%85%8C%EC%8A%A4%ED%8A%B8_%EC%A3%BC%EB%8F%84_%EA%B0%9C%EB%B0%9C))로 문제를 풀도록 해야하며, TDD의 주요 사이클인 1) Red (실패하는 테스트를 먼저 만들고), 2) Green (이 테스트를 통과하는 가장 간결한 코드를 작성하고), 3) Refactor (코드의 구조를 고치고 깔끔하게 정리한다) 의 과정을 준수해야 합니다.\n",
    "\n",
    "동영상 촬영 방법에 대해서는 다음의 링크를 참고해주세요.\n",
    "\n",
    "  * [Windows] 윈도우10의 유용한 기능. 게임 동영상 녹화 ([링크](http://it.donga.com/22257/)) - 게임 동영상이 아닌 일반 화면도 캡쳐할 수 있습니다.\n",
    "  * [Windows] 반디캠. ([링크](https://www.bandicam.co.kr/) - 무료 버전은 10분 제한이 있지만, 10분 단위로 잘라서 촬영한 뒤 제출하셔도 상관 없습니다.\n",
    "  * [MacOS] Mac에서 화면을 기록하는 방법 ([링크](https://support.apple.com/ko-kr/HT208721)) - **QuickTime Player 사용하기** 부분을 참고해주세요.\n",
    "\n",
    "수업이나 과제 관련 질문, 기수 변경, 수료증 문의는 슬랙 https://bit.ly/slack-ds 에 방문하셔서 담당 튜터님에게 문의 주세요. 영수증 발급 등의 문의는 support@dsschool.co.kr 로 메일 주시면 감사하겠습니다."
   ]
  },
  {
   "cell_type": "code",
   "execution_count": null,
   "metadata": {},
   "outputs": [],
   "source": []
  },
  {
   "cell_type": "code",
   "execution_count": null,
   "metadata": {},
   "outputs": [],
   "source": []
  }
 ],
 "metadata": {
  "kernelspec": {
   "display_name": "Python 3",
   "language": "python",
   "name": "python3"
  },
  "language_info": {
   "codemirror_mode": {
    "name": "ipython",
    "version": 3
   },
   "file_extension": ".py",
   "mimetype": "text/x-python",
   "name": "python",
   "nbconvert_exporter": "python",
   "pygments_lexer": "ipython3",
   "version": "3.7.0"
  }
 },
 "nbformat": 4,
 "nbformat_minor": 2
}
